{
  "nbformat": 4,
  "nbformat_minor": 0,
  "metadata": {
    "colab": {
      "provenance": [],
      "authorship_tag": "ABX9TyN/sVVkOOJb+jPlCz2/GwwV",
      "include_colab_link": true
    },
    "kernelspec": {
      "name": "python3",
      "display_name": "Python 3"
    },
    "language_info": {
      "name": "python"
    }
  },
  "cells": [
    {
      "cell_type": "markdown",
      "metadata": {
        "id": "view-in-github",
        "colab_type": "text"
      },
      "source": [
        "<a href=\"https://colab.research.google.com/github/IsagiYoichi640/Bayes-Theorem/blob/main/Bayes_Theorem.ipynb\" target=\"_parent\"><img src=\"https://colab.research.google.com/assets/colab-badge.svg\" alt=\"Open In Colab\"/></a>"
      ]
    },
    {
      "cell_type": "code",
      "execution_count": 3,
      "metadata": {
        "colab": {
          "base_uri": "https://localhost:8080/"
        },
        "id": "X0ZovY_ukeRO",
        "outputId": "e7f376ff-afde-4cde-a16d-5f42acb35630"
      },
      "outputs": [
        {
          "output_type": "stream",
          "name": "stdout",
          "text": [
            "0.913978494623656\n"
          ]
        }
      ],
      "source": [
        "#given probabilities\n",
        "p_strep=0.20\n",
        "p_no_strep=0.80\n",
        "p_pos_strep=0.85\n",
        "p_pos_no_strep=0.02\n",
        "#bayes theorem calculation\n",
        "numerator=p_pos_strep*p_strep\n",
        "denominator=(p_pos_strep*p_strep)+(p_pos_no_strep*p_no_strep)\n",
        "p_strep_pos=numerator/denominator\n",
        "print(p_strep_pos)"
      ]
    },
    {
      "cell_type": "code",
      "source": [
        "total_sides=6\n",
        "rolled=5\n",
        "num=rolled\n",
        "den=total_sides\n",
        "prob=num/den\n",
        "print(prob)"
      ],
      "metadata": {
        "colab": {
          "base_uri": "https://localhost:8080/"
        },
        "id": "TTOh4ff1ofGi",
        "outputId": "e750b37f-851f-4cb1-9ddf-ff175e19f9b2"
      },
      "execution_count": 6,
      "outputs": [
        {
          "output_type": "stream",
          "name": "stdout",
          "text": [
            "0.8333333333333334\n"
          ]
        }
      ]
    }
  ]
}